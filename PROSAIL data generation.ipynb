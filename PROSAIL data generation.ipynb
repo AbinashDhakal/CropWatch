{
 "cells": [
  {
   "cell_type": "code",
   "execution_count": 16,
   "id": "8c267acb-bfd0-42a7-bf86-c2de821cc56d",
   "metadata": {},
   "outputs": [],
   "source": [
    "#chatgpt test\n",
    "import prosail\n",
    "import numpy as np\n",
    "import matplotlib.pyplot as plt\n",
    "import itertools\n",
    "import csv\n",
    "import time"
   ]
  },
  {
   "cell_type": "code",
   "execution_count": 31,
   "id": "4df50896-efdb-47d5-b8d5-37bc311f2c73",
   "metadata": {},
   "outputs": [],
   "source": [
    "# Define parameter ranges for a large mesh of possible combinations\n",
    "N=100 #nummber of values for each IMPORTANT parameter\n",
    "M=2 #number of values for each NON-IMPORTANT parameter\n",
    "Q=2 #number of values for each AVERAGELY IMPORTANT parameter\n",
    "n_values = [1.5] #list(np.linspace(1,3,M)) #[1.5, 1.6, 1.7]\n",
    "cab_values = list(np.linspace(0,100,N))#[40] [40, 50, 60]\n",
    "car_values = [8] #list(np.linspace(5,30,M)#[8, 10, 12]\n",
    "cbrown_values = [0] # list(np.linspace(0,1,M))#[0]  TO CHECK!!!\n",
    "cw_values = [0.01] #list(np.linspace(0.004,0.4,M)) #[0.01]#[0.01, 0.015, 0.02]\n",
    "cm_values = [0.008] # list(np.linspace(0.0019,0.0165,M))#[0.008]#[0.008, 0.009, 0.01]\n",
    "lai_values = list(np.linspace(0,8,N))#[3.0]#[3.0, 3.5, 4.0]\n",
    "lidfa_values = list(np.linspace(0,90,N)) #[45]#[45, 50, 55]\n",
    "hspot_values = [0.1] # list(np.linspace(0,1,M)) #[0.1]#[0.1, 0.2, 0.3]\n",
    "tts_values = [20] # list(np.linspace(0,90,M)) #[20]#[20, 30, 40]\n",
    "tto_values = [0] #list(np.linspace(0,90,M)) #[0]\n",
    "psi_values = [0] #list(np.linspace(0,180,M)) #[0]\n",
    "rsoil_values = list(np.linspace(0,5,Q)) #[1]\n",
    "psoil_values = list(np.linspace(0,1,Q)) #[0.4, 0.5, 0.6]\n",
    "\n",
    "# Generate all combinations of parameters\n",
    "parameter_combinations = list(itertools.product(n_values, cab_values, car_values, cbrown_values, cw_values, cm_values, \n",
    "                                                lai_values, lidfa_values, hspot_values, tts_values, tto_values, \n",
    "                                                psi_values, rsoil_values, psoil_values))\n",
    "\n",
    "# Wavelength range for PROSAIL output (from 400 nm to 2500 nm)\n",
    "wavelengths = np.arange(400, 2501)\n",
    "\n",
    "# Output file\n",
    "output_file = '/home/yavor/Documents/sc/prosail_output/prosail_data_v1.csv'\n",
    "i0=0 #beginning row, for easier restart in case of abnormal runs"
   ]
  },
  {
   "cell_type": "code",
   "execution_count": 32,
   "id": "2e8b827c-fb4c-412c-a97b-e14f79b45c2b",
   "metadata": {},
   "outputs": [
    {
     "name": "stdout",
     "output_type": "stream",
     "text": [
      "Band results saved to /home/yavor/Documents/sc/prosail_output/prosail_data_v1.csv\n"
     ]
    }
   ],
   "source": [
    "t0=time.time()\n",
    "\n",
    "# Open the output file and write header\n",
    "with open(output_file, mode='a', newline='') as file:\n",
    "    writer = csv.writer(file)\n",
    "    if i0==0:\n",
    "        header = ['i','n', 'cab', 'car', 'cbrown', 'cw', 'cm', 'lai', 'lidfa', 'hspot', 'tts', 'tto', 'psi', 'rsoil', 'psoil'] + list([\"B\",\"G\",\"R\",\"NIR\"])\n",
    "        writer.writerow(header)\n",
    "\n",
    "    # Iterate over all parameter combinations\n",
    "    #for params in parameter_combinations:\n",
    "    for i in range(i0,len(parameter_combinations)):\n",
    "        params=parameter_combinations[i]\n",
    "        n, cab, car, cbrown, cw, cm, lai, lidfa, hspot, tts, tto, psi, rsoil, psoil = params\n",
    "\n",
    "        # Run the PROSAIL model with the current combination of parameters\n",
    "        reflectance = prosail.run_prosail(n, cab, car, cbrown, cw, cm, lai, lidfa, hspot, tts, tto, psi,\n",
    "                                          ant=0.0, alpha=40.0, prospect_version='5', typelidf=2, lidfb=0.0,\n",
    "                                          factor='SDR', rsoil0=None, rsoil=rsoil, psoil=psoil,\n",
    "                                          soil_spectrum1=None, soil_spectrum2=None)\n",
    "        B=np.average(reflectance[58:122]) #blue, B02\n",
    "        G=np.average(reflectance[143 : 177]) #green, B03\n",
    "        R=np.average(reflectance[250 : 280]) #red, B04\n",
    "        NIR=np.average(reflectance[386 : 500]) #nir, B08\n",
    "        # Write the parameters and the corresponding reflectance to the file\n",
    "        row = list([i])+list(params) + list([B,G,R,NIR])\n",
    "        writer.writerow(row)\n",
    "        print(\"Row: \",i,\" Time: \", time.time()-t0,end=\"\\r\")\n",
    "\n",
    "print(f\"Band results saved to {output_file}\")"
   ]
  }
 ],
 "metadata": {
  "kernelspec": {
   "display_name": "piton",
   "language": "python",
   "name": "piton"
  },
  "language_info": {
   "codemirror_mode": {
    "name": "ipython",
    "version": 3
   },
   "file_extension": ".py",
   "mimetype": "text/x-python",
   "name": "python",
   "nbconvert_exporter": "python",
   "pygments_lexer": "ipython3",
   "version": "3.11.4"
  }
 },
 "nbformat": 4,
 "nbformat_minor": 5
}
